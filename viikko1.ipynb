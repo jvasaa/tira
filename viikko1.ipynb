{
 "cells": [
  {
   "cell_type": "code",
   "execution_count": 31,
   "metadata": {},
   "outputs": [
    {
     "name": "stdout",
     "output_type": "stream",
     "text": [
      "False\n",
      "True\n",
      "False\n",
      "True\n",
      "True\n"
     ]
    }
   ],
   "source": [
    "def check(n):\n",
    "    '''Onnenluvut'''\n",
    "    summa = 0\n",
    "    \n",
    "    for i in str(n):\n",
    "        summa = summa + int(i)\n",
    "        \n",
    "    if summa % 7 == 0:\n",
    "        return True\n",
    "    else:\n",
    "        return False\n",
    "\n",
    "\n",
    "if __name__ == \"__main__\":\n",
    "    print(check(14)) # False\n",
    "    print(check(16)) # True\n",
    "    print(check(123)) # False\n",
    "    print(check(777)) # True\n",
    "    print(check(9999999)) # True"
   ]
  },
  {
   "cell_type": "code",
   "execution_count": 32,
   "metadata": {},
   "outputs": [
    {
     "name": "stdout",
     "output_type": "stream",
     "text": [
      "[1]\n",
      "[1, 2]\n",
      "[3, 1, 2]\n",
      "[3, 1, 2, 4]\n",
      "[5, 3, 1, 2, 4]\n"
     ]
    }
   ],
   "source": [
    "def create(n):\n",
    "    '''Lista'''\n",
    "    lista = []\n",
    "    for i in range(n):\n",
    "        if i % 2 == 0:\n",
    "            lista.insert(0, i+1)\n",
    "        else:\n",
    "            lista.append(i+1)\n",
    "    return lista\n",
    "\n",
    "\n",
    "if __name__ == \"__main__\":\n",
    "    print(create(1)) # [1]\n",
    "    print(create(2)) # [1,2]\n",
    "    print(create(3)) # [3,1,2]\n",
    "    print(create(4)) # [3,1,2,4]\n",
    "    print(create(5)) # [5,3,1,2,4]"
   ]
  },
  {
   "cell_type": "code",
   "execution_count": 3,
   "metadata": {},
   "outputs": [],
   "source": [
    "'''Kuningatar ja ratsu'''\n",
    "\n",
    "n = 4\n",
    "\n",
    "q = (2,1) #kuningatar (rivi, sarake)\n",
    "n = (1,3) #ratsu"
   ]
  },
  {
   "cell_type": "code",
   "execution_count": null,
   "metadata": {},
   "outputs": [],
   "source": []
  }
 ],
 "metadata": {
  "kernelspec": {
   "display_name": "Python 3",
   "language": "python",
   "name": "python3"
  },
  "language_info": {
   "codemirror_mode": {
    "name": "ipython",
    "version": 3
   },
   "file_extension": ".py",
   "mimetype": "text/x-python",
   "name": "python",
   "nbconvert_exporter": "python",
   "pygments_lexer": "ipython3",
   "version": "3.8.5"
  }
 },
 "nbformat": 4,
 "nbformat_minor": 4
}
